{
 "cells": [
  {
   "cell_type": "markdown",
   "id": "00112b26",
   "metadata": {},
   "source": [
    "### Problem-1"
   ]
  },
  {
   "cell_type": "code",
   "execution_count": 106,
   "id": "c506177f",
   "metadata": {},
   "outputs": [],
   "source": [
    "from Module.logger import Log_class\n",
    "import os"
   ]
  },
  {
   "cell_type": "code",
   "execution_count": 107,
   "id": "9ccf9e4e",
   "metadata": {},
   "outputs": [],
   "source": [
    "foldername='./Log/'\n",
    "filename='Task-1.txt'\n",
    "\n",
    "if not os.path.isdir(foldername):\n",
    "    os.mkdir(foldername)\n",
    "\n",
    "logobj=Log_class(foldername,filename)\n",
    "\n",
    "\n",
    "class TextReplacement:\n",
    "    def __init__(self,filename):\n",
    "        self.text=input('Enter The text: ')\n",
    "        self.filename=filename\n",
    "        self.oldstring=input('Enter The old text which you want to replace: ')\n",
    "        self.newstring=input('Enter new text: ')\n",
    "        \n",
    "    \n",
    "    def CreateFile(self):\n",
    "        try:\n",
    "            logobj.InfoLog('CreateFile method started. Here we will be writing the text in the text file')\n",
    "            with open(self.filename,'w') as wfile:\n",
    "                logobj.InfoLog(f'Filename: {self.filename}')\n",
    "                logobj.InfoLog(f'File created with file name {self.filename}')\n",
    "                wfile.write(self.text)\n",
    "                logobj.InfoLog(f'Text data enter in the file is: {self.text}')\n",
    "                print(f'Previous text was: {self.text}')\n",
    "        except Exception as e:\n",
    "            logobj.ErrorLog(f'Error message: {e}')\n",
    "            print(e)\n",
    "        \n",
    "            \n",
    "    def ReadReplaceText(self):\n",
    "        try:\n",
    "            logobj.InfoLog('ReadReplaceText method started. Here we read the file content and then replac ethe tsring iwth the new one')\n",
    "            with open(self.filename) as rfile:\n",
    "                logobj.InfoLog(f'File open with file name {self.filename}')\n",
    "                data=rfile.readlines()\n",
    "                logobj.InfoLog(f'Readed all the contents')\n",
    "\n",
    "                for i in data:\n",
    "                    j= i.split()\n",
    "                    if self.oldstring in j:\n",
    "                        \n",
    "                        k= list(map(lambda x: x.replace(self.oldstring, self.newstring), j))\n",
    "                        logobj.InfoLog(f'Old String {self.oldstring} is now replace with new string {self.newstring}')\n",
    "                        l= ' '.join(k)\n",
    "                    \n",
    "                        with open(self.filename,'w') as file:\n",
    "                            file.writelines(l)\n",
    "                            logobj.InfoLog(f'Writing that new updated text into same file')\n",
    "                        print(f'Updated text is: {l}')\n",
    "                        \n",
    "                        \n",
    "                    else:\n",
    "                        print('The string you have entered to replace is not not present in the original text')\n",
    "        \n",
    "        except Exception as e:\n",
    "            logobj.InfoLog(f'Error message: {e}')\n",
    "            print(e)"
   ]
  },
  {
   "cell_type": "code",
   "execution_count": 108,
   "id": "163f0661",
   "metadata": {},
   "outputs": [
    {
     "name": "stdout",
     "output_type": "stream",
     "text": [
      "Enter The text: this is a placement assignment\n",
      "Enter The old text which you want to replace: placement\n",
      "Enter new text: screening\n"
     ]
    }
   ],
   "source": [
    "o=TextReplacement('assignment.txt')"
   ]
  },
  {
   "cell_type": "code",
   "execution_count": 110,
   "id": "7bd77f43",
   "metadata": {},
   "outputs": [
    {
     "name": "stdout",
     "output_type": "stream",
     "text": [
      "Previous text was: this is a placement assignment\n"
     ]
    }
   ],
   "source": [
    "o.CreateFile()"
   ]
  },
  {
   "cell_type": "code",
   "execution_count": 111,
   "id": "85c2c7fa",
   "metadata": {},
   "outputs": [
    {
     "name": "stdout",
     "output_type": "stream",
     "text": [
      "Updated text is: this is a screening assignment\n"
     ]
    }
   ],
   "source": [
    "o.ReadReplaceText()\n"
   ]
  },
  {
   "cell_type": "markdown",
   "id": "79309271",
   "metadata": {},
   "source": [
    "### 2) Problem-2"
   ]
  },
  {
   "cell_type": "code",
   "execution_count": 112,
   "id": "54019ffa",
   "metadata": {},
   "outputs": [],
   "source": [
    "from abc import ABC, abstractmethod\n",
    "from Module.logger import Log_class"
   ]
  },
  {
   "cell_type": "code",
   "execution_count": 113,
   "id": "66125258",
   "metadata": {},
   "outputs": [],
   "source": [
    "foldername='./Log/'\n",
    "filename='Task-2.txt'\n",
    "\n",
    "if not os.path.isdir(foldername):\n",
    "    os.mkdir(foldername)\n",
    "\n",
    "logobj=Log_class(foldername,filename)\n",
    "\n",
    "\n",
    "\n",
    "\n",
    "class FamilyRelation(ABC):\n",
    "    try:\n",
    "        \n",
    "        logobj.InfoLog('FamilyRelaton clas started. Here we have imported metaclass \"ABC\".')\n",
    "\n",
    "        @abstractmethod\n",
    "        def Son(self,a,b):\n",
    "            logobj.InfoLog('\"Son\" method is initialed under \"abstractmethod\" decorator')\n",
    "            pass\n",
    "\n",
    "        @abstractmethod\n",
    "        def Brother(self,a,b):\n",
    "            logobj.InfoLog('\"Brother\" method is initialed under \"abstractmethod\" decorator')\n",
    "            pass\n",
    "\n",
    "        @abstractmethod\n",
    "        def Sister(self,a,b):\n",
    "            logobj.InfoLog('\"Sister\" method is initialed under \"abstractmethod\" decorator')\n",
    "\n",
    "            pass\n",
    "\n",
    "        @abstractmethod\n",
    "        def Daughter(self,a,b):\n",
    "            logobj.InfoLog('\"Daughter\" method is initialed under \"abstractmethod\" decorator')\n",
    "            pass\n",
    "        \n",
    "    except Exception as e:\n",
    "        logobj.ErrorLog(f'Error message: {e}')\n",
    "        print(e)\n",
    "    \n",
    "    \n",
    "    \n",
    "class ParentToSon(FamilyRelation):\n",
    "    try:\n",
    "        \n",
    "        logobj.InfoLog('\"ParenToSon\" class initialsed which is child class of \"FamilyRelation\" class. This will only execute the \"Son\" method')\n",
    "\n",
    "\n",
    "        def Son(self, a=\"Dharmender\", b=\"Sunny\"):\n",
    "            logobj.InfoLog('\"Son\" method is initialed under \"child class \"ParenToSon\"')\n",
    "            print(f'{b} is a son of {a}')\n",
    "\n",
    "        def Brother(self, a=\"Salman\", b=\"Sohail\"):\n",
    "            logobj.InfoLog('\"Brother\" method is initialed under \"child class \"ParenToSon\"')\n",
    "            print(f\"{b} and {a} are brothers\")\n",
    "\n",
    "        def Sister(self, a=\"Kareena\", b=\"Karishma\"):\n",
    "            logobj.InfoLog('\"Sisters\" method is initialed under \"child class \"ParenToSon\"')\n",
    "            print(f\"{b} and {a} are sisters\")\n",
    "\n",
    "        def Daughter(self,a=\"Reena\", b=\"Kavita\"):\n",
    "            logobj.InfoLog('\"Daughter\" method is initialed under \"child class \"ParenToSon\"')\n",
    "            print(f\"{a} is a daughter of {b}\")\n",
    "    \n",
    "    except Exception as e:\n",
    "        logobj.ErrorLog(f'Error message: {e}')\n",
    "        print(e)\n",
    "    \n",
    "\n",
    "class Brothers(FamilyRelation):\n",
    "    try:\n",
    "        logobj.InfoLog('\"Brothers\" class initialsed which is child class of \"FamilyRelation\" class')\n",
    "\n",
    "        def Son(self, a=\"Dharmender\", b=\"Sunny\"):\n",
    "            logobj.InfoLog('\"Son\" method is initialed under \"child class \"Brothers\"')\n",
    "            print(f'{b} is a son of {a}')\n",
    "\n",
    "        def Brother(self, a=\"Salman\", b=\"Sohail\"):\n",
    "            logobj.InfoLog('\"Brother\" method is initialed under \"child class \"Brothers\"')\n",
    "            print(f\"{b} and {a} are brothers\")\n",
    "\n",
    "        def Sister(self, a=\"Kareena\", b=\"Karishma\"):\n",
    "            logobj.InfoLog('\"Sister\" method is initialed under \"child class \"Brothers\"')\n",
    "            print(f\"{b} and {a} are sisters\")\n",
    "\n",
    "        def Daughter(self,a=\"Reena\", b=\"Kavita\"):\n",
    "            logobj.InfoLog('\"Daughter\" method is initialed under \"child class \"Brothers\"')\n",
    "            print(f\"{a} is a daughter of {b}\")\n",
    "    \n",
    "    except Exception as e:\n",
    "        logobj.ErrorLog(f'Error message: {e}')\n",
    "        print(e)\n",
    "        \n",
    "        \n",
    "class Sisters(FamilyRelation):\n",
    "\n",
    "    try:\n",
    "        \n",
    "        logobj.InfoLog('\"Sisters\" class initialsed which is child class of \"FamilyRelation\" class')\n",
    "    \n",
    "        def Son(self, a=\"Dharmender\", b=\"Sunny\"):\n",
    "            logobj.InfoLog('\"Son\" method is initialed under \"child class \"Sisters\"')\n",
    "\n",
    "            print(f'{b} is a son of {a}')\n",
    "\n",
    "        def Brother(self, a=\"Salman\", b=\"Sohail\"):\n",
    "            logobj.InfoLog('\"Brother\" method is initialed under \"child class \"Sisters\"')\n",
    "            print(f\"{b} and {a} are brothers\")\n",
    "\n",
    "        def Sister(self, a=\"Kareena\", b=\"Karishma\"):\n",
    "            logobj.InfoLog('\"Sister\" method is initialed under \"child class \"Sisters\"')\n",
    "            print(f\"{b} and {a} are sisters\")\n",
    "\n",
    "        def Daughter(self,a=\"Reena\", b=\"Kavita\"):\n",
    "            logobj.InfoLog('\"Daughter\" method is initialed under \"child class \"Sisters\"')\n",
    "            print(f\"{a} is a daughter of {b}\")\n",
    "    \n",
    "    except Exception as e:\n",
    "        logobj.ErrorLog(f'Error message: {e}')\n",
    "        print(e)\n",
    "    \n",
    "    \n",
    "class ParentToDaughters(FamilyRelation):\n",
    "    try:\n",
    "        \n",
    "        logobj.InfoLog('\"ParentToDaughter\" class initialsed which is child class of \"FamilyRelation\" class')\n",
    "\n",
    "        def Son(self, a=\"Dharmender\", b=\"Sunny\"):\n",
    "            logobj.InfoLog('\"Son\" method is initialed under \"child class \"ParentToDaughter\"')\n",
    "            print(f'{b} is a son of {a}')\n",
    "\n",
    "        def Brother(self, a=\"Salman\", b=\"Sohail\"):\n",
    "            logobj.InfoLog('\"Brother\" method is initialed under \"child class \"ParentToDaughter\"')\n",
    "            print(f\"{b} and {a} are brothers\")\n",
    "\n",
    "        def Sister(self, a=\"Kareena\", b=\"Karishma\"):\n",
    "            logobj.InfoLog('\"Sister\" method is initialed under \"child class \"ParentToDaughter\"')\n",
    "            print(f\"{b} and {a} are sisters\")\n",
    "\n",
    "        def Daughter(self,a=\"Reena\", b=\"Kavita\"):\n",
    "            logobj.InfoLog('\"Daughter\" method is initialed under \"child class \"ParentToDaughter\"')\n",
    "            print(f\"{a} is a daughter of {b}\")\n",
    "            \n",
    "            \n",
    "    except Exception as e:\n",
    "        logobj.ErrorLog(f'Error message: {e}')\n",
    "        print(e)"
   ]
  },
  {
   "cell_type": "code",
   "execution_count": 114,
   "id": "24defedf",
   "metadata": {},
   "outputs": [],
   "source": [
    "objson=ParentToSon()\n",
    "objbrother = Brothers()\n",
    "objsister = Sisters()\n",
    "objdaughter=ParentToDaughters()"
   ]
  },
  {
   "cell_type": "code",
   "execution_count": 115,
   "id": "e7bf9ed6",
   "metadata": {},
   "outputs": [
    {
     "name": "stdout",
     "output_type": "stream",
     "text": [
      "Sunny is a son of Dharmender\n"
     ]
    }
   ],
   "source": [
    "objson.Son()"
   ]
  },
  {
   "cell_type": "code",
   "execution_count": 116,
   "id": "0e03fe55",
   "metadata": {},
   "outputs": [
    {
     "name": "stdout",
     "output_type": "stream",
     "text": [
      "Sohail and Salman are brothers\n"
     ]
    }
   ],
   "source": [
    "objbrother.Brother()"
   ]
  },
  {
   "cell_type": "code",
   "execution_count": 117,
   "id": "b069018f",
   "metadata": {},
   "outputs": [
    {
     "name": "stdout",
     "output_type": "stream",
     "text": [
      "Karishma and Kareena are sisters\n"
     ]
    }
   ],
   "source": [
    "objsister.Sister()"
   ]
  },
  {
   "cell_type": "code",
   "execution_count": 118,
   "id": "f7f96343",
   "metadata": {},
   "outputs": [
    {
     "name": "stdout",
     "output_type": "stream",
     "text": [
      "Reena is a daughter of Kavita\n"
     ]
    }
   ],
   "source": [
    "objdaughter.Daughter()"
   ]
  }
 ],
 "metadata": {
  "kernelspec": {
   "display_name": "Python 3",
   "language": "python",
   "name": "python3"
  },
  "language_info": {
   "codemirror_mode": {
    "name": "ipython",
    "version": 3
   },
   "file_extension": ".py",
   "mimetype": "text/x-python",
   "name": "python",
   "nbconvert_exporter": "python",
   "pygments_lexer": "ipython3",
   "version": "3.8.8"
  }
 },
 "nbformat": 4,
 "nbformat_minor": 5
}
